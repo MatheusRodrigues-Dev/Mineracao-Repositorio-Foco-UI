{
 "cells": [
  {
   "cell_type": "code",
   "execution_count": 3,
   "metadata": {},
   "outputs": [],
   "source": [
    "import os  # Importa a biblioteca os para interagir com o sistema de arquivos\n",
    "import pandas as pd  # Importa a biblioteca pandas para manipulação de dados\n",
    "# Importa a função de detecção de idioma\n",
    "from langdetect import detect, DetectorFactory\n",
    "\n",
    "# Configurar o gerador de números aleatórios para a detecção de idioma\n",
    "# Define uma semente para garantir resultados reprodutíveis na detecção de idioma\n",
    "DetectorFactory.seed = 0\n",
    "\n",
    "# Verificar e criar pastas para armazenamento de dados\n",
    "if not os.path.exists(\"../Database/Resultados-Busca\"):  # Verifica se o diretório existe\n",
    "    os.makedirs(\"../Database/Resultados-Busca\")  # Cria o diretório se não existir\n",
    "\n",
    "# Lê o arquivo CSV que contém os dados dos repositórios coletados anteriormente\n",
    "df = pd.read_csv('../Database/Resultados-Busca/repositorios_ux.csv')\n",
    "\n",
    "# Função para detectar o idioma de um texto\n",
    "\n",
    "\n",
    "def detect_language(text):\n",
    "    # Verifica se o texto é nulo ou vazio\n",
    "    if pd.isnull(text) or text.strip() == \"\":\n",
    "        return \"unknown\"  # Retorna \"unknown\" se o texto não for válido\n",
    "    try:\n",
    "        return detect(text)  # Tenta detectar o idioma do texto\n",
    "    except Exception:\n",
    "        return \"unknown\"  # Retorna \"unknown\" em caso de erro durante a detecção\n",
    "\n",
    "\n",
    "# Adiciona uma nova coluna ao DataFrame com o idioma detectado\n",
    "df['language_detected'] = df['description'].apply(\n",
    "    detect_language)  # Aplica a função de detecção a cada descrição\n",
    "\n",
    "# Salva o DataFrame atualizado em um novo arquivo CSV\n",
    "df.to_csv('../Database/Resultados-Busca/repositories_data.csv',\n",
    "          index=False)  # Salva o DataFrame sem o índice"
   ]
  }
 ],
 "metadata": {
  "kernelspec": {
   "display_name": "Python 3",
   "language": "python",
   "name": "python3"
  },
  "language_info": {
   "codemirror_mode": {
    "name": "ipython",
    "version": 3
   },
   "file_extension": ".py",
   "mimetype": "text/x-python",
   "name": "python",
   "nbconvert_exporter": "python",
   "pygments_lexer": "ipython3",
   "version": "3.11.9"
  }
 },
 "nbformat": 4,
 "nbformat_minor": 2
}
