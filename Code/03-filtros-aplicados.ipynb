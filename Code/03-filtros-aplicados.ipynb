{
 "cells": [
  {
   "cell_type": "code",
   "execution_count": 1,
   "metadata": {},
   "outputs": [
    {
     "name": "stdout",
     "output_type": "stream",
     "text": [
      "Repositórios filtrados com sucesso.\n",
      "               stars         forks  open_issues  contributors_count  \\\n",
      "count    2964.000000   2964.000000  2964.000000         2964.000000   \n",
      "mean     2974.334683    461.637314    68.813428           30.846491   \n",
      "std      8544.984970   2095.783094   216.263055           68.820856   \n",
      "min        14.000000     11.000000     0.000000            0.000000   \n",
      "25%       136.750000     28.000000     3.000000            2.000000   \n",
      "50%       456.500000     67.000000    12.000000            7.000000   \n",
      "75%      1776.000000    236.250000    44.250000           21.000000   \n",
      "max    167445.000000  58886.000000  3803.000000          472.000000   \n",
      "\n",
      "       commits_count       watchers          size  releases_count  \n",
      "count    2964.000000    2964.000000  2.964000e+03     2964.000000  \n",
      "mean     1349.014845    2974.334683  7.344697e+04       43.309717  \n",
      "std     11175.408327    8544.984970  5.096299e+05      424.624999  \n",
      "min         1.000000      14.000000  0.000000e+00        0.000000  \n",
      "25%        57.000000     136.750000  1.476750e+03        0.000000  \n",
      "50%       200.000000     456.500000  7.798500e+03        2.000000  \n",
      "75%       738.500000    1776.000000  3.685675e+04       20.000000  \n",
      "max    575755.000000  167445.000000  2.404452e+07    17250.000000  \n"
     ]
    }
   ],
   "source": [
    "import pandas as pd  # Importa a biblioteca pandas para manipulação de dados\n",
    "\n",
    "# Carregar dados do arquivo CSV\n",
    "# Lê o arquivo CSV contendo os dados dos repositórios\n",
    "df = pd.read_csv('../Database/Resultados-Busca/repositories_data.csv')\n",
    "\n",
    "# Filtro 1: Seleciona repositórios com mais de 10 estrelas\n",
    "# Filtra o DataFrame para incluir apenas repositórios com mais de 10 estrelas\n",
    "df = df[df['stars'] > 10]\n",
    "\n",
    "# Filtro 2: Seleciona repositórios com mais de 10 forks\n",
    "# Filtra o DataFrame para incluir apenas repositórios com mais de 10 forks\n",
    "df = df[df['forks'] > 10]\n",
    "\n",
    "# Filtro 3: Seleciona repositórios que estão em inglês\n",
    "# Filtra o DataFrame para incluir apenas repositórios detectados como inglês\n",
    "df = df[df['language_detected'].isin(['en'])]\n",
    "\n",
    "# Filtro 4: Seleciona repositórios criados nos últimos 10 anos\n",
    "# Converte a coluna 'created_at' para o tipo datetime, tratando erros como NaT\n",
    "df['created_at'] = pd.to_datetime(df['created_at'], errors='coerce')\n",
    "# Calcula a data que representa 10 anos atrás em UTC\n",
    "ten_years_ago = pd.Timestamp.now(tz='UTC') - pd.DateOffset(years=10)\n",
    "# Filtra o DataFrame para incluir apenas repositórios criados nos últimos 10 anos\n",
    "df = df[df['created_at'] > ten_years_ago]\n",
    "\n",
    "# Filtro 5: Converter a coluna 'updated_at' para o tipo datetime (caso ainda não esteja)\n",
    "# Garante que a coluna 'updated_at' seja do tipo datetime\n",
    "df['updated_at'] = pd.to_datetime(df['updated_at'])\n",
    "\n",
    "# Filtro 6: Seleciona repositórios que foram atualizados em 2024\n",
    "# Filtra o DataFrame para incluir apenas repositórios que foram atualizados no ano de 2024\n",
    "df = df[df['updated_at'].dt.year == 2024]\n",
    "\n",
    "# Filtro 7: Verifica se o nome e a descrição não são nulos ou vazios\n",
    "df = df[(df['name'].notna()) & (df['description'].notna()) &\n",
    "        (df['name'].str.strip() != '') & (df['description'].str.strip() != '')]  # Filtra o DataFrame para garantir que nome e descrição sejam válidos\n",
    "\n",
    "# Verificar se o DataFrame está vazio após a aplicação dos filtros\n",
    "if df.empty:\n",
    "    # Mensagem caso nenhum repositório passe pelos filtros\n",
    "    print(\"Nenhum repositório atende aos critérios de filtro.\")\n",
    "else:\n",
    "    # Salvar o DataFrame filtrado em um novo arquivo CSV\n",
    "    df.to_csv('../Database/Resultados-Busca/repositories_ux_filtrados.csv',\n",
    "              index=False, sep=',', decimal=',')  # Salva o DataFrame filtrado sem incluir o índice\n",
    "    print(\"Repositórios filtrados com sucesso.\")  # Mensagem de sucesso\n",
    "\n",
    "    # Exemplo de resumo de dados filtrados\n",
    "    print(df.describe())  # Exibe um resumo estatístico dos dados filtrados\n",
    "\n",
    "    # Adicione aqui mais análises conforme necessário"
   ]
  }
 ],
 "metadata": {
  "kernelspec": {
   "display_name": "Python 3",
   "language": "python",
   "name": "python3"
  },
  "language_info": {
   "codemirror_mode": {
    "name": "ipython",
    "version": 3
   },
   "file_extension": ".py",
   "mimetype": "text/x-python",
   "name": "python",
   "nbconvert_exporter": "python",
   "pygments_lexer": "ipython3",
   "version": "3.11.9"
  }
 },
 "nbformat": 4,
 "nbformat_minor": 2
}
