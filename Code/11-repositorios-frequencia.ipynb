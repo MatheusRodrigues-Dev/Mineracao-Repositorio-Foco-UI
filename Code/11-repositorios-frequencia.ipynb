{
 "cells": [
  {
   "cell_type": "code",
   "execution_count": 1,
   "metadata": {},
   "outputs": [
    {
     "name": "stdout",
     "output_type": "stream",
     "text": [
      "Arquivos CSV salvos com sucesso!\n"
     ]
    }
   ],
   "source": [
    "import pandas as pd\n",
    "\n",
    "# Ler o arquivo CSV\n",
    "df = pd.read_csv('../Database/Questao1/Ranking/ranking.csv')\n",
    "\n",
    "# Definir listas de pacotes relacionados à UI\n",
    "ui_packages = [\n",
    "    'react', 'react-dom', '@types/react', '@types/react-dom', \n",
    "    'react-test-renderer', 'react-redux', 'vue', 'vue-router', \n",
    "    '@testing-library/react', '@testing-library/user-event', \n",
    "    'react-scripts', 'eslint-plugin-react', 'eslint-plugin-vue', \n",
    "    'tailwindcss', 'sass', 'css-loader', 'style-loader', \n",
    "    '@babel/preset-react', '@babel/preset-typescript'\n",
    "]\n",
    "\n",
    "# Criar uma coluna para identificar se é UI ou não\n",
    "df['is_ui'] = df['project_name'].isin(ui_packages)\n",
    "\n",
    "# Separar os pacotes em dois DataFrames\n",
    "ui_df = df[df['is_ui']]\n",
    "non_ui_df = df[~df['is_ui']]\n",
    "\n",
    "# Salvar os DataFrames em arquivos CSV\n",
    "ui_df.to_csv('../Database/Questao1/Final/ui_packages.csv', index=False)\n",
    "non_ui_df.to_csv('../Database/Questao1/Final/non_ui_packages.csv', index=False)\n",
    "\n",
    "print(\"Arquivos CSV salvos com sucesso!\")"
   ]
  }
 ],
 "metadata": {
  "kernelspec": {
   "display_name": "Python 3",
   "language": "python",
   "name": "python3"
  },
  "language_info": {
   "codemirror_mode": {
    "name": "ipython",
    "version": 3
   },
   "file_extension": ".py",
   "mimetype": "text/x-python",
   "name": "python",
   "nbconvert_exporter": "python",
   "pygments_lexer": "ipython3",
   "version": "3.12.7"
  }
 },
 "nbformat": 4,
 "nbformat_minor": 2
}
