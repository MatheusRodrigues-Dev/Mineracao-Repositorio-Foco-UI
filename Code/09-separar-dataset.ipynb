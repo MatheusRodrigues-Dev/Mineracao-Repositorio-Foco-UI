{
 "cells": [
  {
   "cell_type": "code",
   "execution_count": 1,
   "metadata": {},
   "outputs": [
    {
     "name": "stdout",
     "output_type": "stream",
     "text": [
      "Codigo Finalizado\n"
     ]
    }
   ],
   "source": [
    "import pandas as pd\n",
    "import os\n",
    "\n",
    "# Carregar o arquivo CSV\n",
    "df = pd.read_csv('../Database/Questao1/resultados.csv')\n",
    "\n",
    "# Verificar os tipos de documento únicos na coluna 'file'\n",
    "tipos_documento = df['file'].unique()\n",
    "\n",
    "# Criar o diretório de saída, se não existir\n",
    "output_dir = '../Database/Questao1/separados'\n",
    "os.makedirs(output_dir, exist_ok=True)\n",
    "\n",
    "# Separar o DataFrame por tipo de documento e salvar em arquivos CSV diferentes\n",
    "for tipo in tipos_documento:\n",
    "    # Filtrar o DataFrame para o tipo de documento atual\n",
    "    df_tipo = df[df['file'] == tipo]\n",
    "    \n",
    "    # Criar um nome de arquivo seguro (substituir espaços por underscores)\n",
    "    tipo_limpo = tipo.replace(' ', '_').replace('/', '_')  # Limpa o nome do tipo\n",
    "    file_path = os.path.join(output_dir, f'{tipo_limpo}.csv')  # Monta o caminho completo do arquivo\n",
    "    \n",
    "    # Salvar o DataFrame filtrado em um novo arquivo CSV\n",
    "    df_tipo.to_csv(file_path, index=False)  # Salva o DataFrame em um novo arquivo CSV\n",
    "\n",
    "print('Codigo Finalizado')"
   ]
  }
 ],
 "metadata": {
  "kernelspec": {
   "display_name": "Python 3",
   "language": "python",
   "name": "python3"
  },
  "language_info": {
   "codemirror_mode": {
    "name": "ipython",
    "version": 3
   },
   "file_extension": ".py",
   "mimetype": "text/x-python",
   "name": "python",
   "nbconvert_exporter": "python",
   "pygments_lexer": "ipython3",
   "version": "3.12.7"
  }
 },
 "nbformat": 4,
 "nbformat_minor": 2
}
