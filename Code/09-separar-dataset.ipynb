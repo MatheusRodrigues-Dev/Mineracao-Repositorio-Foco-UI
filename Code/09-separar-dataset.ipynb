{
 "cells": [
  {
   "cell_type": "markdown",
   "metadata": {},
   "source": [
    "# Separar por Tipo de Arquivo de Configuração\n",
    "\n",
    "Com a busca dos arquivos de configuração realizados no script **`08-busca-pelo-arquivo-config.ipynb`**, para poder verificar a ocorrencia foi necessário separar os arquivos por tipo de arquivo de configuração. Para poder extrair as componentes mais usados\n",
    "\n",
    "## Importação de Bibliotecas\n",
    "\n",
    "- **pandas (`pd`)**: Para manipulação de dados em formato tabular.\n",
    "- **os**: Para interagir com o sistema operacional, como criação de diretórios.\n",
    "\n",
    "## Funcionalidades\n",
    "\n",
    "1. **Carregamento de Dados**: O script começa carregando um arquivo CSV que contém os resultados previamente coletados.\n",
    "\n",
    "2. **Identificação de Tipos de Documento**: Extrai os tipos de documento únicos da coluna `file` do DataFrame.\n",
    "\n",
    "3. **Criação de Diretório de Saída**: Cria um diretório para armazenar os arquivos CSV separados, caso ele ainda não exista.\n",
    "\n",
    "4. **Separação de Dados**: Para cada tipo de documento identificado, o script:\n",
    "   - Filtra o DataFrame para incluir apenas as entradas do tipo atual.\n",
    "   - Gera um nome de arquivo seguro, substituindo espaços e barras por underscores.\n",
    "   - Salva o DataFrame filtrado em um novo arquivo CSV.\n"
   ]
  },
  {
   "cell_type": "code",
   "execution_count": 1,
   "metadata": {},
   "outputs": [
    {
     "name": "stdout",
     "output_type": "stream",
     "text": [
      "Codigo Finalizado\n"
     ]
    }
   ],
   "source": [
    "import pandas as pd\n",
    "import os\n",
    "\n",
    "# Carregar o arquivo CSV\n",
    "df = pd.read_csv('../Database/Questao1/resultados.csv')\n",
    "\n",
    "# Verificar os tipos de documento únicos na coluna 'file'\n",
    "tipos_documento = df['file'].unique()\n",
    "\n",
    "# Criar o diretório de saída, se não existir\n",
    "output_dir = '../Database/Questao1/separados'\n",
    "os.makedirs(output_dir, exist_ok=True)\n",
    "\n",
    "# Separar o DataFrame por tipo de documento e salvar em arquivos CSV diferentes\n",
    "for tipo in tipos_documento:\n",
    "    # Filtrar o DataFrame para o tipo de documento atual\n",
    "    df_tipo = df[df['file'] == tipo]\n",
    "    \n",
    "    # Criar um nome de arquivo seguro (substituir espaços por underscores)\n",
    "    tipo_limpo = tipo.replace(' ', '_').replace('/', '_')  # Limpa o nome do tipo\n",
    "    file_path = os.path.join(output_dir, f'{tipo_limpo}.csv')  # Monta o caminho completo do arquivo\n",
    "    \n",
    "    # Salvar o DataFrame filtrado em um novo arquivo CSV\n",
    "    df_tipo.to_csv(file_path, index=False)  # Salva o DataFrame em um novo arquivo CSV\n",
    "\n",
    "print('Codigo Finalizado')"
   ]
  }
 ],
 "metadata": {
  "kernelspec": {
   "display_name": "Python 3",
   "language": "python",
   "name": "python3"
  },
  "language_info": {
   "codemirror_mode": {
    "name": "ipython",
    "version": 3
   },
   "file_extension": ".py",
   "mimetype": "text/x-python",
   "name": "python",
   "nbconvert_exporter": "python",
   "pygments_lexer": "ipython3",
   "version": "3.12.7"
  }
 },
 "nbformat": 4,
 "nbformat_minor": 2
}
